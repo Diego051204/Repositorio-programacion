{
  "nbformat": 4,
  "nbformat_minor": 0,
  "metadata": {
    "colab": {
      "name": "ejercicios clase 3",
      "provenance": [],
      "collapsed_sections": []
    },
    "kernelspec": {
      "name": "python3",
      "display_name": "Python 3"
    },
    "language_info": {
      "name": "python"
    }
  },
  "cells": [
    {
      "cell_type": "markdown",
      "source": [
        "# Ingrese una palabra palindroma"
      ],
      "metadata": {
        "id": "sTYKnbV9mkWD"
      }
    },
    {
      "cell_type": "code",
      "source": [
        "palabra = input()\n",
        "if str(palabra) == str(palabra)[::-1] :\n",
        "    print(\"si es una palabra Palindrome\")\n",
        "else:\n",
        "    print(\"No es una palabra palindrome\")"
      ],
      "metadata": {
        "colab": {
          "base_uri": "https://localhost:8080/"
        },
        "id": "A9a1UYz5q1kt",
        "outputId": "a3c88375-409a-4beb-da79-6788726fa38a"
      },
      "execution_count": null,
      "outputs": [
        {
          "output_type": "stream",
          "name": "stdout",
          "text": [
            "ROTOR\n",
            "si es una palabra Palindrome\n"
          ]
        }
      ]
    },
    {
      "cell_type": "markdown",
      "source": [
        "# Ingrese un numero que quieras separar por su orden matematico."
      ],
      "metadata": {
        "id": "b_xyT4BBslAX"
      }
    },
    {
      "cell_type": "code",
      "source": [
        "num=int(input(\"Ingrese un numero: \"))\n",
        "print(\"numero:\",num)\n",
        "if num<10:\n",
        "  print(\"Unidad\")\n",
        "elif num>=10 and num<99:\n",
        "  print(\"Decena\")\n",
        "elif num>=100 and num<=999:\n",
        "  print(\"Centena\")\n",
        "elif num>=1000 and num<=9999:\n",
        "  print(\"Milesima\")\n",
        "elif num>=10000 and num<=99999:\n",
        "  print(\"Decena de mil\")\n",
        "elif num>=100000:\n",
        "  print(\"Centena de mil\")\n"
      ],
      "metadata": {
        "colab": {
          "base_uri": "https://localhost:8080/"
        },
        "id": "pGxnllxTugjY",
        "outputId": "fae19b91-2838-4ba2-df98-3a7ae3f43d30"
      },
      "execution_count": null,
      "outputs": [
        {
          "output_type": "stream",
          "name": "stdout",
          "text": [
            "Ingrese un numero: 890000000000\n",
            "numero: 890000000000\n",
            "Centena de mil\n"
          ]
        }
      ]
    },
    {
      "cell_type": "markdown",
      "source": [
        "# Votaciones para elegir candidato"
      ],
      "metadata": {
        "id": "FC84M18mwxUQ"
      }
    },
    {
      "cell_type": "code",
      "source": [
        ""
      ],
      "metadata": {
        "id": "Ycvp0DY6xSlI"
      },
      "execution_count": null,
      "outputs": []
    },
    {
      "cell_type": "markdown",
      "source": [
        "# Ingrese una letra para identificar si es vocal o consonante"
      ],
      "metadata": {
        "id": "hFRFx1RoxTGv"
      }
    },
    {
      "cell_type": "code",
      "source": [
        "def vocal_o_consonante(letra):\n",
        "  if letra in('a','e', 'i', 'o', 'u', 'A', 'E', 'I', 'O', 'U'):\n",
        "    return = ('Vocal')\n",
        "        elif letra in('y', 'Y')\n"
      ],
      "metadata": {
        "id": "xk9LDEvvxkke",
        "colab": {
          "base_uri": "https://localhost:8080/",
          "height": 131
        },
        "outputId": "24beda01-8a51-4f8a-da82-601cdc67173f"
      },
      "execution_count": null,
      "outputs": [
        {
          "output_type": "error",
          "ename": "SyntaxError",
          "evalue": "ignored",
          "traceback": [
            "\u001b[0;36m  File \u001b[0;32m\"<ipython-input-28-ab4eb26d4259>\"\u001b[0;36m, line \u001b[0;32m3\u001b[0m\n\u001b[0;31m    return = ('Vocal')\u001b[0m\n\u001b[0m           ^\u001b[0m\n\u001b[0;31mSyntaxError\u001b[0m\u001b[0;31m:\u001b[0m invalid syntax\n"
          ]
        }
      ]
    },
    {
      "cell_type": "markdown",
      "source": [
        "# Programa para cambiar de cm a m, cm a kilometros y viceversa"
      ],
      "metadata": {
        "id": "CQMxU1NPUwjW"
      }
    },
    {
      "cell_type": "code",
      "source": [
        "def main():\n",
        "\tprint('Elige opcion en la que quieres que se expresa la cantidad')\n",
        "\topcion = (raw_input('Elige opcion < cm, m, km >:  '))\n",
        "\tcantidad = float(raw_input('indica la cantidad:   '))\n",
        " \n",
        "\tif opcion == 'cm':\n",
        "\t\tprint('Calculando...')\n",
        "    print('cantidad / 100, 'metros')\n",
        "\t\tprint('cantidad / 1000, 'kilometros')\n",
        " \n",
        "\tif opcion == 'm':\n",
        "\t\tprint('Calculando...')\n",
        "\t\tprint('cantidad * 100 ,'centimetros')\n",
        "\t\tprint('cantidad / 1000, 'kilometros')\n",
        " \n",
        "\tif opcion == 'km':\n",
        "\t\tprint('Calculando...')\n",
        "\t\tprint('cantidad * 1000, 'metros')\n",
        "\t\tprint('cantidad * 100000, 'centimetros')\n",
        "\n"
      ],
      "metadata": {
        "id": "NHbRV4TFUw-g"
      },
      "execution_count": null,
      "outputs": []
    },
    {
      "cell_type": "markdown",
      "source": [
        ""
      ],
      "metadata": {
        "id": "psNRzxmnaWK4"
      }
    },
    {
      "cell_type": "markdown",
      "source": [
        "# Division de numero entero y su tipo resultado"
      ],
      "metadata": {
        "id": "3io5LLrqMa2j"
      }
    },
    {
      "cell_type": "code",
      "source": [
        "a= int(input('Ingrese un numero entero que sea el dividendo de la division')\n",
        "b= int(input('Escriba otro numero el cual cumpla como divisor'))\n",
        "\n",
        "if b==0:\n",
        "  print('No se puede dividir por cero ingrese otro numero')\n",
        "  b=int(input())\n",
        "  division=(a/b)\n",
        "  modulo=(a*b)\n",
        "  if modulo ==00:\n",
        "    print('La division es exacta, es igual a=', division, 'y su residuo es', modulo)\n",
        "    else:\n",
        "      print('La division es inexacta, es igual a=',division, 'y su residuo es', modulo)"
      ],
      "metadata": {
        "id": "rFSdbLvZMshQ"
      },
      "execution_count": null,
      "outputs": []
    }
  ]
}